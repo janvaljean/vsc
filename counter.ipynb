{
 "cells": [
  {
   "cell_type": "code",
   "execution_count": null,
   "metadata": {},
   "outputs": [],
   "source": [
    "#Split the string sentence into a list of words,\n",
    "#then create a dictionary named word_counts that contains each word and \n",
    "#the number of times it occurs.\n",
    "from collections import Counter\n",
    "\n",
    "\n",
    "sentence = \"The dog chased the rabbit into the forest but the rabbit was too quick.\"\n",
    "lst = sentence.split()\n",
    "\n",
    "word_counts = dict(Counter(lst))\n",
    "print(word_counts)\n",
    "print(type(word_counts))\n"
   ]
  },
  {
   "cell_type": "code",
   "execution_count": 6,
   "metadata": {},
   "outputs": [
    {
     "data": {
      "text/plain": [
       "{'The': 1,\n",
       " 'dog': 1,\n",
       " 'chased': 1,\n",
       " 'the': 3,\n",
       " 'rabbit': 2,\n",
       " 'into': 1,\n",
       " 'forest': 1,\n",
       " 'but': 1,\n",
       " 'was': 1,\n",
       " 'too': 1,\n",
       " 'quick.': 1}"
      ]
     },
     "execution_count": 6,
     "metadata": {},
     "output_type": "execute_result"
    }
   ],
   "source": [
    "#Split the string sentence into a list of words,\n",
    "#then create a dictionary named word_counts that contains each word and\n",
    "#the number of times it occurs.\n",
    "# #! version 2\n",
    "sentence = \"The dog chased the rabbit into the forest but the rabbit was too quick.\"\n",
    "lst = sentence.split()\n",
    "dict((i, lst.count(i)) for i in lst)\n"
   ]
  },
  {
   "cell_type": "code",
   "execution_count": null,
   "metadata": {},
   "outputs": [],
   "source": [
    "#If you only want a single item's count, use the count method:\n",
    "from collections import Counter\n",
    "\n",
    "\n",
    "sentence = \"The dog chased the rabbit into the forest but the rabbit was too quick.\"\n",
    "lst = sentence.split()\n",
    "lst.count(\"dog\")\n"
   ]
  },
  {
   "cell_type": "code",
   "execution_count": null,
   "metadata": {},
   "outputs": [],
   "source": []
  }
 ],
 "metadata": {
  "kernelspec": {
   "display_name": "Python 3.10.7 64-bit",
   "language": "python",
   "name": "python3"
  },
  "language_info": {
   "codemirror_mode": {
    "name": "ipython",
    "version": 3
   },
   "file_extension": ".py",
   "mimetype": "text/x-python",
   "name": "python",
   "nbconvert_exporter": "python",
   "pygments_lexer": "ipython3",
   "version": "3.10.7"
  },
  "orig_nbformat": 4,
  "vscode": {
   "interpreter": {
    "hash": "5c10da12c10fd823261dd9974e66cd700332e2c96798d888241a9fd5e55edbb8"
   }
  }
 },
 "nbformat": 4,
 "nbformat_minor": 2
}

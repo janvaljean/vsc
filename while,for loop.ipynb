{
 "cells": [
  {
   "cell_type": "code",
   "execution_count": 3,
   "metadata": {},
   "outputs": [
    {
     "data": {
      "text/plain": [
       "1035"
      ]
     },
     "execution_count": 3,
     "metadata": {},
     "output_type": "execute_result"
    }
   ],
   "source": [
    "#in this case we want to sum from 1 to number, return the sum of 1+2+3+4...+n\n",
    "\n",
    "def sumTo(aBound):\n",
    "    \n",
    "    theSum = 0\n",
    "    aNumber = 1\n",
    "    while aNumber <= aBound:\n",
    "        theSum += aNumber\n",
    "        aNumber +=1\n",
    "    return theSum\n",
    "\n",
    "sumTo(5)\n",
    "sumTo(45)"
   ]
  },
  {
   "cell_type": "code",
   "execution_count": 8,
   "metadata": {},
   "outputs": [
    {
     "name": "stdout",
     "output_type": "stream",
     "text": [
      "[0, 2, 4, 6, 8, 10, 12, 14]\n"
     ]
    }
   ],
   "source": [
    "#write a while loop that is initialized at 0 and stops 15.  take a list which has even numbers\n",
    "count = 0\n",
    "eve_num =[]\n",
    "while count <= 15:\n",
    "    if count % 2 == 0:\n",
    "        eve_num.append(count)\n",
    "    count += 1\n",
    "print(eve_num)"
   ]
  },
  {
   "cell_type": "code",
   "execution_count": 11,
   "metadata": {},
   "outputs": [
    {
     "name": "stdout",
     "output_type": "stream",
     "text": [
      "36\n"
     ]
    }
   ],
   "source": [
    "# with a while loop we want to sum all the elements of list\n",
    "list = [3,5,6,2,4,6,7,2,1]\n",
    "tot = 0\n",
    "i = 0\n",
    "\n",
    "while i < len(list):\n",
    "    tot += list[i]\n",
    "    i += 1\n",
    "print(tot)"
   ]
  },
  {
   "cell_type": "code",
   "execution_count": 17,
   "metadata": {},
   "outputs": [
    {
     "data": {
      "text/plain": [
       "[2, 4, 5, 6]"
      ]
     },
     "execution_count": 17,
     "metadata": {},
     "output_type": "execute_result"
    }
   ],
   "source": [
    "#Write a function called stop_at_four that iterates through a list of numbers.\n",
    "# Using a while loop, append each number to a new list until the number 4 appears. \n",
    "# The function should return the new list.\n",
    "#listedeki herhangi bir secilen  elemamini görene kadar yazdiran fonksiyorn\n",
    "\n",
    "def stop_at_four(list1):\n",
    "    new_list = []\n",
    "    i = 0\n",
    "    while i < len(list1):\n",
    "        if list1[i] == 4:\n",
    "            break\n",
    "        new_list.append(list1[i])\n",
    "        i = i+1\n",
    "\n",
    "    return new_list\n"
   ]
  },
  {
   "cell_type": "code",
   "execution_count": 10,
   "metadata": {},
   "outputs": [
    {
     "name": "stdout",
     "output_type": "stream",
     "text": [
      "14\n"
     ]
    }
   ],
   "source": [
    "theSum = 0\n",
    "x = -1\n",
    "while (x != 0):\n",
    "    x = int(input(\"next numver to add up enter 0 if no more numbers\"))\n",
    "    theSum += x\n",
    "print(theSum)"
   ]
  },
  {
   "cell_type": "code",
   "execution_count": 24,
   "metadata": {},
   "outputs": [
    {
     "name": "stdout",
     "output_type": "stream",
     "text": [
      "enter again a valid input\n",
      "enter again a valid input\n",
      "enter again a valid input\n",
      "your answer is totally correct\n"
     ]
    }
   ],
   "source": [
    "\n",
    "\n",
    "\n",
    "def check_answer(message):\n",
    "    valid_input = False\n",
    "    while not valid_input:\n",
    "        answer = input(message)\n",
    "        answer = answer.upper()\n",
    "        if answer == \"Y\" or answer == \"N\":\n",
    "            valid_input = True\n",
    "        else:\n",
    "            print(\"enter again a valid input\")\n",
    "    return answer\n",
    "\n",
    "response  = check_answer(\"do you like pizza y or n : \")\n",
    "if response == \"Y\":\n",
    "    print(\"your answer is totally correct\")\n",
    "else:\n",
    "    print(\"shade\")\n",
    "        "
   ]
  },
  {
   "cell_type": "code",
   "execution_count": 41,
   "metadata": {},
   "outputs": [
    {
     "name": "stdout",
     "output_type": "stream",
     "text": [
      "70\n"
     ]
    }
   ],
   "source": [
    "x = int(input(\"next number to add up enter 0 if no more numbers\"))\n",
    "y = int(input(\"next number to add up enter 0 if no more numbers\"))\n",
    "z = int(input(\"next number to add up enter 0 if no more numbers\"))\n",
    "if x > (y and z):\n",
    "    print(x)\n",
    "elif y > (x and z):\n",
    "    print(y)\n",
    "else:\n",
    "    print(z)\n"
   ]
  },
  {
   "cell_type": "code",
   "execution_count": 23,
   "metadata": {},
   "outputs": [
    {
     "data": {
      "text/plain": [
       "[1, 56, 34, 2, 3, 1, 4]"
      ]
     },
     "execution_count": 23,
     "metadata": {},
     "output_type": "execute_result"
    }
   ],
   "source": [
    "def sublist(list):\n",
    "    sub = list\n",
    "    for i in list:\n",
    "        if i == 5:\n",
    "            x = list.index(i)\n",
    "            sub =list[:x] \n",
    "            \n",
    "    return sub\n",
    "\n",
    "list3 = [1,56,34,2,3,1,4,5,5,5]\n",
    "sublist(list3)   \n",
    "    \n"
   ]
  },
  {
   "cell_type": "code",
   "execution_count": 27,
   "metadata": {},
   "outputs": [
    {
     "data": {
      "text/plain": [
       "[1, 56, 34, 2]"
      ]
     },
     "execution_count": 27,
     "metadata": {},
     "output_type": "execute_result"
    }
   ],
   "source": [
    "def sublist(x):\n",
    "    sub = []\n",
    "    x = (num for num in x)\n",
    "    num = next(x, 5)\n",
    "    while num != 5:\n",
    "        sub.append(num)\n",
    "        num = next(x, 5)\n",
    "    return sub\n",
    "\n",
    "\n",
    "list2 = [1, 56, 34, 2,5, 3, 1, 4,5]\n",
    "sublist(list2)\n"
   ]
  },
  {
   "cell_type": "code",
   "execution_count": 29,
   "metadata": {},
   "outputs": [
    {
     "ename": "NameError",
     "evalue": "name 'i' is not defined",
     "output_type": "error",
     "traceback": [
      "\u001b[1;31m---------------------------------------------------------------------------\u001b[0m",
      "\u001b[1;31mNameError\u001b[0m                                 Traceback (most recent call last)",
      "Cell \u001b[1;32mIn [29], line 10\u001b[0m\n\u001b[0;32m      7\u001b[0m         \u001b[39mreturn\u001b[39;00m sub\n\u001b[0;32m      9\u001b[0m list3 \u001b[39m=\u001b[39m [\u001b[39m1\u001b[39m,\u001b[39m56\u001b[39m,\u001b[39m34\u001b[39m,\u001b[39m2\u001b[39m,\u001b[39m5\u001b[39m,\u001b[39m3\u001b[39m,\u001b[39m1\u001b[39m,\u001b[39m4\u001b[39m,\u001b[39m5\u001b[39m,\u001b[39m5\u001b[39m,\u001b[39m5\u001b[39m]\n\u001b[1;32m---> 10\u001b[0m sublist(list3)\n",
      "Cell \u001b[1;32mIn [29], line 3\u001b[0m, in \u001b[0;36msublist\u001b[1;34m(lst)\u001b[0m\n\u001b[0;32m      1\u001b[0m \u001b[39mdef\u001b[39;00m \u001b[39msublist\u001b[39m(lst):\n\u001b[0;32m      2\u001b[0m         sub \u001b[39m=\u001b[39m lst\n\u001b[1;32m----> 3\u001b[0m         \u001b[39mwhile\u001b[39;00m (i \u001b[39min\u001b[39;00m lst):\n\u001b[0;32m      4\u001b[0m            \u001b[39mif\u001b[39;00m i \u001b[39m==\u001b[39m \u001b[39m5\u001b[39m:\n\u001b[0;32m      5\u001b[0m               x \u001b[39m=\u001b[39m lst\u001b[39m.\u001b[39mindex(i)\n",
      "\u001b[1;31mNameError\u001b[0m: name 'i' is not defined"
     ]
    }
   ],
   "source": [
    "def sublist(lst):\n",
    "        sub = lst\n",
    "        for i in lst:\n",
    "           if i == 5:\n",
    "              x = lst.index(i)\n",
    "              sub = lst[:x]\n",
    "        return sub\n",
    "\n",
    "list3 = [1,56,34,2,3,1,4,5,5,5]\n",
    "sublist(list3) "
   ]
  },
  {
   "cell_type": "code",
   "execution_count": 36,
   "metadata": {},
   "outputs": [
    {
     "data": {
      "text/plain": [
       "[1, 56, 34, 2, 3, 1, 4]"
      ]
     },
     "execution_count": 36,
     "metadata": {},
     "output_type": "execute_result"
    }
   ],
   "source": [
    "def sublist(input_list):\n",
    "    output_list = []\n",
    "    index = 0\n",
    "    while index < len(input_list):\n",
    "        if input_list[index] != 5:\n",
    "            output_list.append(input_list[index])\n",
    "            index += 1\n",
    "        else:\n",
    "            break\n",
    "    return output_list\n",
    "\n",
    "\n",
    "list3 = [1, 56, 34, 2, 3, 1, 4, 5, 5, 5]\n",
    "sublist(list3)\n"
   ]
  },
  {
   "cell_type": "code",
   "execution_count": 38,
   "metadata": {},
   "outputs": [
    {
     "data": {
      "text/plain": [
       "[1]"
      ]
     },
     "execution_count": 38,
     "metadata": {},
     "output_type": "execute_result"
    }
   ],
   "source": [
    "#Write a function called check_nums that takes a list as its parameter,\n",
    "# and contains a while loop that only stops once the element of the list is the number 7. \n",
    "# What is returned is a list of all of the numbers up until it reaches 7.\n",
    "def check_nums(lst):\n",
    "    output_lst = []\n",
    "    idx = 0\n",
    "    while idx < len(lst):\n",
    "        if lst[idx] != 7:\n",
    "            output_lst.append(lst[idx])\n",
    "            idx += 1\n",
    "        else:\n",
    "            break\n",
    "    return output_lst\n",
    "\n",
    "\n",
    "list4 = [1,7, 56, 34, 2, 3,7, 1, 4, 5, 5, 5]\n",
    "check_nums(list4)\n"
   ]
  },
  {
   "cell_type": "code",
   "execution_count": 49,
   "metadata": {},
   "outputs": [
    {
     "data": {
      "text/plain": [
       "['sefga', 'meryere', '32420']"
      ]
     },
     "execution_count": 49,
     "metadata": {},
     "output_type": "execute_result"
    }
   ],
   "source": [
    "#Write a function, sublist, that takes in a list of strings as the parameter. \n",
    "# In the function, use a while loop to return a sublist of the input list. \n",
    "# The sublist should contain the same values of the original list up until it reaches the string “STOP” \n",
    "# (it should not contain the string “STOP”)\n",
    "\n",
    "\n",
    "def sublist(list):\n",
    "    output_lst = []\n",
    "    list1 = []\n",
    "    idx = 0\n",
    "    for i in list:\n",
    "        x = i.lower()\n",
    "        list1.append(x)  \n",
    "    while idx < len(list1):\n",
    "        if list1[idx] != \"stop\":\n",
    "            output_lst.append(list1[idx])\n",
    "            idx += 1\n",
    "        else:\n",
    "            break\n",
    "    return output_lst\n",
    "\n",
    "list5 = [\"sefga\",\"meryere\",\"32420\",\"Stop\",\"pasfa\"]\n",
    "sublist(list5)"
   ]
  },
  {
   "cell_type": "code",
   "execution_count": null,
   "metadata": {},
   "outputs": [],
   "source": [
    "list5 = [\"Sefga\",\"meryere\",\"32420\",\"Stop\",\"pasfa\"]\n",
    "for i in list5:\n",
    "    x = i.lower()\n",
    "    print(x)"
   ]
  },
  {
   "cell_type": "code",
   "execution_count": null,
   "metadata": {},
   "outputs": [],
   "source": [
    "#Write a function called stop_at_z that iterates through a list of strings.\n",
    "# Using a while loop, append each string to a new list until the string that appears is “z”. \n",
    "# The function should return the new list.\n",
    "def stop_at_z(lst):\n",
    "    output_lst = []\n",
    "    idx = 0\n",
    "    while idx < len(lst):\n",
    "        if lst[idx] != \"z\":\n",
    "            output_lst.append(lst[idx])\n",
    "            idx += 1\n",
    "        else:\n",
    "            break\n",
    "    return output_lst\n"
   ]
  },
  {
   "cell_type": "code",
   "execution_count": null,
   "metadata": {},
   "outputs": [],
   "source": [
    "#Below is a for loop that works.\n",
    "# Underneath the for loop, rewrite the problem so that it does the same thing,\n",
    "# but using a while loop instead of a for loop. \n",
    "# Assign the accumulated total in the while loop code to the variable sum2.\n",
    "# Once complete, sum2 should equal sum1.\n",
    "sum1 = 0\n",
    "\n",
    "lst = [65, 78, 21, 33]\n",
    "\n",
    "for x in lst:\n",
    "    sum1 = sum1 + x\n",
    "    \n",
    "idx = 0\n",
    "sum2 = 0\n",
    "while idx < len(lst):\n",
    "    sum2 = sum2 + lst[idx]\n",
    "    idx +=1\n",
    "    \n"
   ]
  },
  {
   "cell_type": "code",
   "execution_count": 1,
   "metadata": {},
   "outputs": [
    {
     "name": "stdout",
     "output_type": "stream",
     "text": [
      "5\n"
     ]
    }
   ],
   "source": [
    "x = 5 \n",
    "print(x)"
   ]
  },
  {
   "cell_type": "code",
   "execution_count": 9,
   "metadata": {},
   "outputs": [
    {
     "data": {
      "text/plain": [
       "['sdsd',\n",
       " '123',\n",
       " 'bhy3e',\n",
       " 'sdsd',\n",
       " '123',\n",
       " 'bhy3e',\n",
       " 'sdsd',\n",
       " '123',\n",
       " 'bhy3e8888',\n",
       " 'sdsd']"
      ]
     },
     "execution_count": 9,
     "metadata": {},
     "output_type": "execute_result"
    }
   ],
   "source": [
    "#Challenge: Write a function called beginning that takes a list as input and contains a while loop that only stops once the element of the list is the string ‘bye’.\n",
    "# What is returned is a list that contains up to the first 10 strings, regardless of where the loop stops. \n",
    "# (i.e., if it stops on the 32nd element, the first 10 are returned. If “bye” is the 5th element, the first 4 are returned.) \n",
    "# If you want to make this even more of a challenge, do this without slicing\n",
    "def beginning(lst):\n",
    "    idx = 0\n",
    "    input_lst = []\n",
    "    while idx < len(lst):\n",
    "        if lst[idx] != \"bye\":\n",
    "            input_lst.append(lst[idx])\n",
    "            idx += 1\n",
    "        else:\n",
    "            break\n",
    "    if len(input_lst) > 10:\n",
    "        input_lst = input_lst[0:10]\n",
    "    return input_lst\n",
    "        \n",
    "\n",
    "list1 = [\"sdsd\", \"123\", \"bhy3e\", \"sdsd\",\n",
    "         \"123\", \"bhy3e\", \"sdsd\", \"123\", \"bhy3e8888\", \"sdsd\", \"123\", \"bhy3e\", \"sdsd\",\n",
    "         \"123\", \"bhy3e\", \"sdsd\", \"123\", \"bhy3e8888\", \"bye\", \"sdsd\", \"123\", \"bhy3e\", \"sdsd\", \"123\", \"bhy3e\"]\n",
    "beginning(list1)"
   ]
  },
  {
   "cell_type": "code",
   "execution_count": 10,
   "metadata": {},
   "outputs": [
    {
     "data": {
      "text/plain": [
       "['sdsd',\n",
       " '123',\n",
       " 'bhy3e',\n",
       " 'sdsd',\n",
       " '123',\n",
       " 'bhy3e',\n",
       " 'sdsd',\n",
       " '123',\n",
       " 'bhy3e8888',\n",
       " 'sdsd']"
      ]
     },
     "execution_count": 10,
     "metadata": {},
     "output_type": "execute_result"
    }
   ],
   "source": [
    "#Challenge: Write a function called beginning that takes a list as input and contains a while loop that only stops once the element of the list is the string ‘bye’.\n",
    "# What is returned is a list that contains up to the first 10 strings, regardless of where the loop stops.\n",
    "# (i.e., if it stops on the 32nd element, the first 10 are returned. If “bye” is the 5th element, the first 4 are returned.)\n",
    "# If you want to make this even more of a challenge, do this without slicing\n",
    "def beginning(lst):\n",
    "    idx = 0\n",
    "    input_lst = []\n",
    "    output_list = []\n",
    "    while idx < len(lst):\n",
    "        if lst[idx] != \"bye\":\n",
    "            input_lst.append(lst[idx])\n",
    "            idx += 1\n",
    "        else:\n",
    "            break\n",
    "    for i in input_lst:\n",
    "        output_list.append(i)\n",
    "        if len(output_list) == 10 :\n",
    "            break\n",
    "    return output_list\n",
    "\n",
    "list1 = [\"sdsd\", \"123\", \"bhy3e\", \"sdsd\",\n",
    "         \"123\", \"bhy3e\", \"sdsd\", \"123\", \"bhy3e8888\", \"sdsd\", \"123\", \"bhy3e\", \"sdsd\",\n",
    "         \"123\", \"bhy3e\", \"sdsd\", \"123\", \"bhy3e8888\", \"bye\", \"sdsd\", \"123\", \"bhy3e\", \"sdsd\", \"123\", \"bhy3e\"]\n",
    "beginning(list1)\n"
   ]
  },
  {
   "cell_type": "code",
   "execution_count": 15,
   "metadata": {},
   "outputs": [
    {
     "name": "stdout",
     "output_type": "stream",
     "text": [
      "[(0, 'm'), (1, 'e'), (2, 'r'), (3, 'y'), (4, 'e'), (5, 'm')]\n"
     ]
    }
   ],
   "source": [
    "word = \"meryem\"\n",
    "x =list(enumerate(word))\n",
    "print(x)"
   ]
  },
  {
   "cell_type": "code",
   "execution_count": 16,
   "metadata": {},
   "outputs": [
    {
     "name": "stdout",
     "output_type": "stream",
     "text": [
      "0 m\n",
      "1 e\n",
      "2 r\n",
      "3 y\n",
      "4 e\n",
      "5 m\n"
     ]
    }
   ],
   "source": [
    "for k,v in enumerate(word):\n",
    "    print(k,v)"
   ]
  },
  {
   "cell_type": "code",
   "execution_count": 18,
   "metadata": {},
   "outputs": [
    {
     "name": "stdout",
     "output_type": "stream",
     "text": [
      "[1, 2, 3, 4, 6, 8, 5, 9, 7, 0, 10]\n"
     ]
    },
    {
     "data": {
      "text/plain": [
       "[0, 1, 2, 3, 4, 5, 6, 7, 8, 9, 10]"
      ]
     },
     "execution_count": 18,
     "metadata": {},
     "output_type": "execute_result"
    }
   ],
   "source": [
    "dirty_list = [1,2,3,4,3,2,6,8,5,6,6,9,8,7,0,5,6,7,8,9,4,5,3,3,2,2,1,10]\n",
    "clean_list = []\n",
    "for _ in dirty_list:\n",
    "    \n",
    "    if _ not in clean_list:\n",
    "        clean_list.append(_)\n",
    "print(clean_list)\n",
    "sorted(clean_list)"
   ]
  },
  {
   "cell_type": "code",
   "execution_count": null,
   "metadata": {},
   "outputs": [],
   "source": []
  }
 ],
 "metadata": {
  "kernelspec": {
   "display_name": "Python 3.10.7 64-bit",
   "language": "python",
   "name": "python3"
  },
  "language_info": {
   "codemirror_mode": {
    "name": "ipython",
    "version": 3
   },
   "file_extension": ".py",
   "mimetype": "text/x-python",
   "name": "python",
   "nbconvert_exporter": "python",
   "pygments_lexer": "ipython3",
   "version": "3.10.7"
  },
  "orig_nbformat": 4,
  "vscode": {
   "interpreter": {
    "hash": "5c10da12c10fd823261dd9974e66cd700332e2c96798d888241a9fd5e55edbb8"
   }
  }
 },
 "nbformat": 4,
 "nbformat_minor": 2
}
